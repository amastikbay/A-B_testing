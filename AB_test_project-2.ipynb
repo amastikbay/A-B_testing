{
 "cells": [
  {
   "cell_type": "code",
   "execution_count": 211,
   "id": "6142b60b-4e78-4bfc-aa1d-618ae1f9dc36",
   "metadata": {},
   "outputs": [],
   "source": [
    "import numpy as np\n",
    "import pandas as pd\n",
    "import seaborn as sns\n",
    "from matplotlib import pyplot as plt\n",
    "from statsmodels.stats.proportion import proportions_ztest\n",
    "from scipy.stats import norm\n",
    "import scipy.stats as stats\n",
    "import statsmodels.stats.api as sms"
   ]
  },
  {
   "cell_type": "code",
   "execution_count": 212,
   "id": "5dd6d4cb-e2b2-4839-9527-af04632705ad",
   "metadata": {},
   "outputs": [],
   "source": [
    "df = pd.read_csv(\"/Users/amastikbayev/Downloads/ab_data.csv\")"
   ]
  },
  {
   "cell_type": "code",
   "execution_count": 213,
   "id": "1c0be71f-1c03-4ad6-b8fc-bb44c909469c",
   "metadata": {},
   "outputs": [
    {
     "data": {
      "text/plain": [
       "user_id         0\n",
       "timestamp       0\n",
       "group           0\n",
       "landing_page    0\n",
       "converted       0\n",
       "dtype: int64"
      ]
     },
     "execution_count": 213,
     "metadata": {},
     "output_type": "execute_result"
    }
   ],
   "source": [
    "# checking for missing values, 0 means that we have no missing values in the data\n",
    "df.isna().sum() #checking for not available data in particular"
   ]
  },
  {
   "cell_type": "code",
   "execution_count": 214,
   "id": "8a85c12f-6703-4c62-b953-6a68755ccc34",
   "metadata": {},
   "outputs": [
    {
     "data": {
      "text/plain": [
       "user_id         0\n",
       "timestamp       0\n",
       "group           0\n",
       "landing_page    0\n",
       "converted       0\n",
       "dtype: int64"
      ]
     },
     "execution_count": 214,
     "metadata": {},
     "output_type": "execute_result"
    }
   ],
   "source": [
    "# checking for missing values, 0 means that we have no missing values in the data\n",
    "df.isnull().sum() #checking for exactly null values"
   ]
  },
  {
   "cell_type": "code",
   "execution_count": 215,
   "id": "c29f6627-7929-4a83-ac86-21c15d233d81",
   "metadata": {},
   "outputs": [
    {
     "data": {
      "text/plain": [
       "(294478, 5)"
      ]
     },
     "execution_count": 215,
     "metadata": {},
     "output_type": "execute_result"
    }
   ],
   "source": [
    "df.shape #checking for the number of rows and columns we have in the data"
   ]
  },
  {
   "cell_type": "code",
   "execution_count": 216,
   "id": "e7df8752-ea02-450d-a902-6c43eabf1f70",
   "metadata": {},
   "outputs": [
    {
     "data": {
      "text/html": [
       "<div>\n",
       "<style scoped>\n",
       "    .dataframe tbody tr th:only-of-type {\n",
       "        vertical-align: middle;\n",
       "    }\n",
       "\n",
       "    .dataframe tbody tr th {\n",
       "        vertical-align: top;\n",
       "    }\n",
       "\n",
       "    .dataframe thead th {\n",
       "        text-align: right;\n",
       "    }\n",
       "</style>\n",
       "<table border=\"1\" class=\"dataframe\">\n",
       "  <thead>\n",
       "    <tr style=\"text-align: right;\">\n",
       "      <th></th>\n",
       "      <th>user_id</th>\n",
       "      <th>timestamp</th>\n",
       "      <th>group</th>\n",
       "      <th>landing_page</th>\n",
       "      <th>converted</th>\n",
       "    </tr>\n",
       "  </thead>\n",
       "  <tbody>\n",
       "    <tr>\n",
       "      <th>0</th>\n",
       "      <td>851104</td>\n",
       "      <td>2017-01-21 22:11:48.556739</td>\n",
       "      <td>control</td>\n",
       "      <td>old_page</td>\n",
       "      <td>0</td>\n",
       "    </tr>\n",
       "    <tr>\n",
       "      <th>1</th>\n",
       "      <td>804228</td>\n",
       "      <td>2017-01-12 08:01:45.159739</td>\n",
       "      <td>control</td>\n",
       "      <td>old_page</td>\n",
       "      <td>0</td>\n",
       "    </tr>\n",
       "    <tr>\n",
       "      <th>2</th>\n",
       "      <td>661590</td>\n",
       "      <td>2017-01-11 16:55:06.154213</td>\n",
       "      <td>treatment</td>\n",
       "      <td>new_page</td>\n",
       "      <td>0</td>\n",
       "    </tr>\n",
       "    <tr>\n",
       "      <th>3</th>\n",
       "      <td>853541</td>\n",
       "      <td>2017-01-08 18:28:03.143765</td>\n",
       "      <td>treatment</td>\n",
       "      <td>new_page</td>\n",
       "      <td>0</td>\n",
       "    </tr>\n",
       "    <tr>\n",
       "      <th>4</th>\n",
       "      <td>864975</td>\n",
       "      <td>2017-01-21 01:52:26.210827</td>\n",
       "      <td>control</td>\n",
       "      <td>old_page</td>\n",
       "      <td>1</td>\n",
       "    </tr>\n",
       "    <tr>\n",
       "      <th>5</th>\n",
       "      <td>936923</td>\n",
       "      <td>2017-01-10 15:20:49.083499</td>\n",
       "      <td>control</td>\n",
       "      <td>old_page</td>\n",
       "      <td>0</td>\n",
       "    </tr>\n",
       "    <tr>\n",
       "      <th>6</th>\n",
       "      <td>679687</td>\n",
       "      <td>2017-01-19 03:26:46.940749</td>\n",
       "      <td>treatment</td>\n",
       "      <td>new_page</td>\n",
       "      <td>1</td>\n",
       "    </tr>\n",
       "    <tr>\n",
       "      <th>7</th>\n",
       "      <td>719014</td>\n",
       "      <td>2017-01-17 01:48:29.539573</td>\n",
       "      <td>control</td>\n",
       "      <td>old_page</td>\n",
       "      <td>0</td>\n",
       "    </tr>\n",
       "    <tr>\n",
       "      <th>8</th>\n",
       "      <td>817355</td>\n",
       "      <td>2017-01-04 17:58:08.979471</td>\n",
       "      <td>treatment</td>\n",
       "      <td>new_page</td>\n",
       "      <td>1</td>\n",
       "    </tr>\n",
       "    <tr>\n",
       "      <th>9</th>\n",
       "      <td>839785</td>\n",
       "      <td>2017-01-15 18:11:06.610965</td>\n",
       "      <td>treatment</td>\n",
       "      <td>new_page</td>\n",
       "      <td>1</td>\n",
       "    </tr>\n",
       "  </tbody>\n",
       "</table>\n",
       "</div>"
      ],
      "text/plain": [
       "   user_id                   timestamp      group landing_page  converted\n",
       "0   851104  2017-01-21 22:11:48.556739    control     old_page          0\n",
       "1   804228  2017-01-12 08:01:45.159739    control     old_page          0\n",
       "2   661590  2017-01-11 16:55:06.154213  treatment     new_page          0\n",
       "3   853541  2017-01-08 18:28:03.143765  treatment     new_page          0\n",
       "4   864975  2017-01-21 01:52:26.210827    control     old_page          1\n",
       "5   936923  2017-01-10 15:20:49.083499    control     old_page          0\n",
       "6   679687  2017-01-19 03:26:46.940749  treatment     new_page          1\n",
       "7   719014  2017-01-17 01:48:29.539573    control     old_page          0\n",
       "8   817355  2017-01-04 17:58:08.979471  treatment     new_page          1\n",
       "9   839785  2017-01-15 18:11:06.610965  treatment     new_page          1"
      ]
     },
     "execution_count": 216,
     "metadata": {},
     "output_type": "execute_result"
    }
   ],
   "source": [
    "df.head(10)"
   ]
  },
  {
   "cell_type": "code",
   "execution_count": 217,
   "id": "23e498c6-50aa-4e53-9954-6a248955ff6f",
   "metadata": {},
   "outputs": [],
   "source": [
    "# user_id is a column with a unique number for each user\n",
    "# timestamp is a column with time when user visited the page\n",
    "# group divides for treatment that sees the new page and control that see the old page\n",
    "# landing_page is whether the user saw the old page or new page\n",
    "# converted (1) means that user purchased the product, 0 means did not purchase"
   ]
  },
  {
   "cell_type": "code",
   "execution_count": 218,
   "id": "e14ebf54-0e53-48b4-b9aa-c6d034e378ff",
   "metadata": {},
   "outputs": [
    {
     "data": {
      "text/html": [
       "<div>\n",
       "<style scoped>\n",
       "    .dataframe tbody tr th:only-of-type {\n",
       "        vertical-align: middle;\n",
       "    }\n",
       "\n",
       "    .dataframe tbody tr th {\n",
       "        vertical-align: top;\n",
       "    }\n",
       "\n",
       "    .dataframe thead th {\n",
       "        text-align: right;\n",
       "    }\n",
       "</style>\n",
       "<table border=\"1\" class=\"dataframe\">\n",
       "  <thead>\n",
       "    <tr style=\"text-align: right;\">\n",
       "      <th>landing_page</th>\n",
       "      <th>new_page</th>\n",
       "      <th>old_page</th>\n",
       "    </tr>\n",
       "    <tr>\n",
       "      <th>group</th>\n",
       "      <th></th>\n",
       "      <th></th>\n",
       "    </tr>\n",
       "  </thead>\n",
       "  <tbody>\n",
       "    <tr>\n",
       "      <th>control</th>\n",
       "      <td>1928</td>\n",
       "      <td>145274</td>\n",
       "    </tr>\n",
       "    <tr>\n",
       "      <th>treatment</th>\n",
       "      <td>145311</td>\n",
       "      <td>1965</td>\n",
       "    </tr>\n",
       "  </tbody>\n",
       "</table>\n",
       "</div>"
      ],
      "text/plain": [
       "landing_page  new_page  old_page\n",
       "group                           \n",
       "control           1928    145274\n",
       "treatment       145311      1965"
      ]
     },
     "execution_count": 218,
     "metadata": {},
     "output_type": "execute_result"
    }
   ],
   "source": [
    "pd.crosstab(df['group'], df['landing_page'])"
   ]
  },
  {
   "cell_type": "code",
   "execution_count": 219,
   "id": "9af05821-d4ff-4eeb-8201-aaa4f2d0f1a7",
   "metadata": {},
   "outputs": [],
   "source": [
    "# we can see that there is a missalignment between numbers since there \n",
    "# should be equal data between new_page AND control with old_page AND treatment and vice virsa \n",
    "# so we should clean the data"
   ]
  },
  {
   "cell_type": "code",
   "execution_count": 220,
   "id": "ccf8b570-cc62-42c1-834f-5fcf7753ede2",
   "metadata": {},
   "outputs": [
    {
     "data": {
      "text/plain": [
       "(290585, 5)"
      ]
     },
     "execution_count": 220,
     "metadata": {},
     "output_type": "execute_result"
    }
   ],
   "source": [
    "# data cleaning\n",
    "# we should drop the rows where the users are in control group and see new page\n",
    "# also we drop rows with treatment group users seeing old page\n",
    "\n",
    "df = df.drop(df[(df.landing_page == \"new_page\") & (df.group == 'control')].index)\n",
    "df = df.drop(df[(df.landing_page == \"old_page\") & (df.group == 'treatment')].index)\n",
    "\n",
    "df.shape"
   ]
  },
  {
   "cell_type": "code",
   "execution_count": 221,
   "id": "d5c78b2d-db98-470e-82e0-dd02415ce70e",
   "metadata": {},
   "outputs": [
    {
     "data": {
      "text/html": [
       "<div>\n",
       "<style scoped>\n",
       "    .dataframe tbody tr th:only-of-type {\n",
       "        vertical-align: middle;\n",
       "    }\n",
       "\n",
       "    .dataframe tbody tr th {\n",
       "        vertical-align: top;\n",
       "    }\n",
       "\n",
       "    .dataframe thead th {\n",
       "        text-align: right;\n",
       "    }\n",
       "</style>\n",
       "<table border=\"1\" class=\"dataframe\">\n",
       "  <thead>\n",
       "    <tr style=\"text-align: right;\">\n",
       "      <th>landing_page</th>\n",
       "      <th>new_page</th>\n",
       "      <th>old_page</th>\n",
       "    </tr>\n",
       "    <tr>\n",
       "      <th>group</th>\n",
       "      <th></th>\n",
       "      <th></th>\n",
       "    </tr>\n",
       "  </thead>\n",
       "  <tbody>\n",
       "    <tr>\n",
       "      <th>control</th>\n",
       "      <td>0</td>\n",
       "      <td>145274</td>\n",
       "    </tr>\n",
       "    <tr>\n",
       "      <th>treatment</th>\n",
       "      <td>145311</td>\n",
       "      <td>0</td>\n",
       "    </tr>\n",
       "  </tbody>\n",
       "</table>\n",
       "</div>"
      ],
      "text/plain": [
       "landing_page  new_page  old_page\n",
       "group                           \n",
       "control              0    145274\n",
       "treatment       145311         0"
      ]
     },
     "execution_count": 221,
     "metadata": {},
     "output_type": "execute_result"
    }
   ],
   "source": [
    "#our row numbers are dropped and now we can check if it went correctly\n",
    "\n",
    "pd.crosstab(df['group'], df['landing_page'])"
   ]
  },
  {
   "cell_type": "code",
   "execution_count": 222,
   "id": "a7aa27e7-b08a-4505-9bd0-4392f583631d",
   "metadata": {},
   "outputs": [
    {
     "data": {
      "text/plain": [
       "user_id         290584\n",
       "timestamp       290585\n",
       "group                2\n",
       "landing_page         2\n",
       "converted            2\n",
       "dtype: int64"
      ]
     },
     "execution_count": 222,
     "metadata": {},
     "output_type": "execute_result"
    }
   ],
   "source": [
    "#perfect now checking for duplicates\n",
    "df.nunique()"
   ]
  },
  {
   "cell_type": "code",
   "execution_count": 223,
   "id": "b746db3c-8ee0-40b7-a938-c88f25d5799f",
   "metadata": {},
   "outputs": [
    {
     "data": {
      "text/plain": [
       "(290584, 5)"
      ]
     },
     "execution_count": 223,
     "metadata": {},
     "output_type": "execute_result"
    }
   ],
   "source": [
    "#there is one duplicate in user_id so we drop it\n",
    "df = df.drop_duplicates(subset = [\"user_id\"])\n",
    "df.shape"
   ]
  },
  {
   "cell_type": "code",
   "execution_count": 224,
   "id": "ecac86eb-cbb8-4a37-958f-e4c59f73ff1d",
   "metadata": {},
   "outputs": [],
   "source": [
    "#this is our final dataset to work with\n",
    "\n",
    "# lets see the problem\n",
    "\n",
    "# I am a product analyst of the website that sells the good, I need to check the conversion rate\n",
    "\n",
    "# of the old page and see whether the new page will have a better conversion rate\n",
    "\n",
    "# and wheter it will be statistically significant that the new page will be better selling\n",
    "\n",
    "# I set standard statistical significance at 5% and a min difference of 2% of conversion rate\n",
    "\n",
    "# in order to invest in the new page\n",
    "\n",
    "# we also set the statistical power at 0.8 as a default value"
   ]
  },
  {
   "cell_type": "code",
   "execution_count": 225,
   "id": "d8620dab-6bee-470f-9b21-d98bed8b25fb",
   "metadata": {},
   "outputs": [],
   "source": [
    "# old page conversion rate is 12% while the new one should be atleast 14%\n",
    "\n",
    "# lets randomly select a sample from each group and see wheter there will be a difference of at least\n",
    "\n",
    "# 2%, so with this information we can count necessary sample size we should get"
   ]
  },
  {
   "cell_type": "code",
   "execution_count": 226,
   "id": "a3cb45da-6e38-4853-971a-031cb9daefb8",
   "metadata": {},
   "outputs": [
    {
     "data": {
      "text/plain": [
       "-0.05951079608252363"
      ]
     },
     "execution_count": 226,
     "metadata": {},
     "output_type": "execute_result"
    }
   ],
   "source": [
    "# Calculating effect size based on our expected rates\n",
    "\n",
    "effect_size = sms.proportion_effectsize(0.12, 0.14)    \n",
    "\n",
    "effect_size"
   ]
  },
  {
   "cell_type": "code",
   "execution_count": 227,
   "id": "e025c317-d415-486e-9a8d-94422aacee49",
   "metadata": {},
   "outputs": [
    {
     "name": "stdout",
     "output_type": "stream",
     "text": [
      "4433\n"
     ]
    }
   ],
   "source": [
    "from math import ceil\n",
    "\n",
    "# Calculating sample size needed\n",
    "required_n = sms.NormalIndPower().solve_power(effect_size, power=0.8,  alpha=0.05,ratio=1)  \n",
    "\n",
    "required_n = ceil(required_n)                         \n",
    "\n",
    "print(required_n) "
   ]
  },
  {
   "cell_type": "code",
   "execution_count": 228,
   "id": "b36ee2d7-ed12-4832-9da6-57e1cd363268",
   "metadata": {},
   "outputs": [],
   "source": [
    "import random\n",
    "seed=18 \n",
    "old_group = df.query('group == \"control\"').sample(required_n, random_state=seed)\n",
    "new_group = df.query('group == \"treatment\"').sample(required_n, random_state=seed)"
   ]
  },
  {
   "cell_type": "code",
   "execution_count": 229,
   "id": "a93c1da6-2f08-4761-b9f6-1ad01288d012",
   "metadata": {},
   "outputs": [
    {
     "data": {
      "text/plain": [
       "group\n",
       "control      4433\n",
       "treatment    4433\n",
       "Name: count, dtype: int64"
      ]
     },
     "execution_count": 229,
     "metadata": {},
     "output_type": "execute_result"
    }
   ],
   "source": [
    "df_sample = pd.concat([old_group, new_group],axis=0)\n",
    "df_sample.group.value_counts()"
   ]
  },
  {
   "cell_type": "code",
   "execution_count": 230,
   "id": "91c5d34d-c542-4572-b31b-1abaefba9a4e",
   "metadata": {},
   "outputs": [
    {
     "data": {
      "text/plain": [
       "group\n",
       "control      0.118656\n",
       "treatment    0.123844\n",
       "Name: converted, dtype: float64"
      ]
     },
     "execution_count": 230,
     "metadata": {},
     "output_type": "execute_result"
    }
   ],
   "source": [
    "import warnings\n",
    "warnings.filterwarnings(\"ignore\")\n",
    "\n",
    "conversion_rates = df_sample.groupby('group')['converted'].agg(np.mean)\n",
    "conversion_rates"
   ]
  },
  {
   "cell_type": "code",
   "execution_count": 231,
   "id": "a6f2907d-d63b-4acb-8207-bff0abe70d3a",
   "metadata": {},
   "outputs": [],
   "source": [
    "# lets analyse the results"
   ]
  },
  {
   "cell_type": "code",
   "execution_count": 232,
   "id": "c4896126-0813-439f-a185-f25b83b35b42",
   "metadata": {},
   "outputs": [],
   "source": [
    "from statsmodels.stats.proportion import proportions_ztest, proportion_confint\n",
    "\n",
    "old_results = df_sample[df_sample['group'] == 'control']['converted']\n",
    "\n",
    "new_results = df_sample[df_sample['group'] == 'treatment']['converted']"
   ]
  },
  {
   "cell_type": "code",
   "execution_count": 267,
   "id": "407e9d8c-944d-451a-bd4b-2f176ccfd8bd",
   "metadata": {},
   "outputs": [],
   "source": [
    "n_old = old_results.count()\n",
    "n_new = new_results.count()\n",
    "nobs = [n_old, n_new]"
   ]
  },
  {
   "cell_type": "code",
   "execution_count": 234,
   "id": "47bb251e-32aa-4bd5-aaac-7525a597ddec",
   "metadata": {},
   "outputs": [
    {
     "data": {
      "text/plain": [
       "(526, 549)"
      ]
     },
     "execution_count": 234,
     "metadata": {},
     "output_type": "execute_result"
    }
   ],
   "source": [
    "bought = old_results.sum(), new_results.sum()\n",
    "bought"
   ]
  },
  {
   "cell_type": "code",
   "execution_count": 261,
   "id": "70591763-29fa-41bc-a87d-32dcef6ff514",
   "metadata": {},
   "outputs": [],
   "source": [
    "# so 526 for old page group and 549 for new page group, both out of 4433"
   ]
  },
  {
   "cell_type": "code",
   "execution_count": 273,
   "id": "b44edc01-debc-4017-a638-7c9e0ffce8e4",
   "metadata": {},
   "outputs": [],
   "source": [
    "z_stat, pval = proportions_ztest(bought,nobs=nobs)\n",
    "(lower_old, lower_new),(upper_old, upper_new) = proportion_confint(bought, nobs=nobs, alpha=0.05)"
   ]
  },
  {
   "cell_type": "code",
   "execution_count": 285,
   "id": "5f491c27-ed9b-4b4d-a565-4d61b7571b9c",
   "metadata": {},
   "outputs": [
    {
     "name": "stdout",
     "output_type": "stream",
     "text": [
      "The Z statistic of the research is: -0.7483260525413273\n"
     ]
    }
   ],
   "source": [
    "print(f\"The Z statistic of the research is: {z_stat}\")"
   ]
  },
  {
   "cell_type": "code",
   "execution_count": 287,
   "id": "a9ef0515-5ed3-44ac-b197-ad4f5b6c26ac",
   "metadata": {},
   "outputs": [
    {
     "name": "stdout",
     "output_type": "stream",
     "text": [
      "The p-value of the research is: 0.45426351388883957\n"
     ]
    }
   ],
   "source": [
    "print(f\"The p-value of the research is: {pval}\")"
   ]
  },
  {
   "cell_type": "code",
   "execution_count": 289,
   "id": "02f53320-490a-46b4-9616-9abe4b7708be",
   "metadata": {},
   "outputs": [
    {
     "name": "stdout",
     "output_type": "stream",
     "text": [
      "The 95% confidence interval of the old page is: (0.10913599562771406, 0.12817508039303938)\n"
     ]
    }
   ],
   "source": [
    "print(f\"The 95% confidence interval of the old page is: {lower_old, upper_old}\")"
   ]
  },
  {
   "cell_type": "code",
   "execution_count": 291,
   "id": "eb8f6822-f4f9-4ee1-bfa5-07fdc8b323e8",
   "metadata": {},
   "outputs": [
    {
     "name": "stdout",
     "output_type": "stream",
     "text": [
      "The 95% confidence interval of the new page is: (0.11414712396675486, 0.133540672108138)\n"
     ]
    }
   ],
   "source": [
    "print(f\"The 95% confidence interval of the new page is: {lower_new, upper_new}\")"
   ]
  },
  {
   "cell_type": "code",
   "execution_count": null,
   "id": "53772550-4310-46cd-a99b-56d2a80cfcab",
   "metadata": {},
   "outputs": [],
   "source": [
    "# interpretation and conclusion"
   ]
  },
  {
   "cell_type": "code",
   "execution_count": null,
   "id": "9913f47d-f5ce-460d-bdfd-50643f8ba095",
   "metadata": {},
   "outputs": [],
   "source": [
    "# p-value of 0.454 is very high and it is greater than 0.05 meaning that\n",
    "# we fail to reject the null hypothesis\n",
    "# which means that:\n",
    "# there is no difference between new design and old design impact on conversion rate\n",
    "# and in fact we should not invest in creating the new design"
   ]
  }
 ],
 "metadata": {
  "kernelspec": {
   "display_name": "Python 3 (ipykernel)",
   "language": "python",
   "name": "python3"
  },
  "language_info": {
   "codemirror_mode": {
    "name": "ipython",
    "version": 3
   },
   "file_extension": ".py",
   "mimetype": "text/x-python",
   "name": "python",
   "nbconvert_exporter": "python",
   "pygments_lexer": "ipython3",
   "version": "3.12.4"
  }
 },
 "nbformat": 4,
 "nbformat_minor": 5
}
